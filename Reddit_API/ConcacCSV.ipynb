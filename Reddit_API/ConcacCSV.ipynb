{
 "cells": [
  {
   "cell_type": "code",
   "execution_count": 1,
   "metadata": {},
   "outputs": [],
   "source": [
    "import pandas as pd\n",
    "from pathlib import Path"
   ]
  },
  {
   "cell_type": "code",
   "execution_count": 2,
   "metadata": {},
   "outputs": [],
   "source": [
    "amc_csv_path = Path('AMC.csv')\n",
    "doge_csv_path = Path('DOGE.csv')\n",
    "gme_csv_path = Path('GME.csv')"
   ]
  },
  {
   "cell_type": "code",
   "execution_count": 3,
   "metadata": {},
   "outputs": [],
   "source": [
    "amc_df = pd.read_csv(amc_csv_path)\n",
    "doge_df = pd.read_csv(doge_csv_path)\n",
    "gme_df = pd.read_csv(gme_csv_path)"
   ]
  },
  {
   "cell_type": "code",
   "execution_count": 4,
   "metadata": {},
   "outputs": [
    {
     "data": {
      "text/html": [
       "<div>\n",
       "<style scoped>\n",
       "    .dataframe tbody tr th:only-of-type {\n",
       "        vertical-align: middle;\n",
       "    }\n",
       "\n",
       "    .dataframe tbody tr th {\n",
       "        vertical-align: top;\n",
       "    }\n",
       "\n",
       "    .dataframe thead th {\n",
       "        text-align: right;\n",
       "    }\n",
       "</style>\n",
       "<table border=\"1\" class=\"dataframe\">\n",
       "  <thead>\n",
       "    <tr style=\"text-align: right;\">\n",
       "      <th></th>\n",
       "      <th>Unnamed: 0</th>\n",
       "      <th>title</th>\n",
       "      <th>created</th>\n",
       "      <th>body</th>\n",
       "      <th>timestamp</th>\n",
       "    </tr>\n",
       "  </thead>\n",
       "  <tbody>\n",
       "    <tr>\n",
       "      <th>0</th>\n",
       "      <td>0</td>\n",
       "      <td>PETITION: Repost \"Robinhood CEO Lying Under Oa...</td>\n",
       "      <td>1.621024e+09</td>\n",
       "      <td>NaN</td>\n",
       "      <td>2021-05-14 13:30:50</td>\n",
       "    </tr>\n",
       "    <tr>\n",
       "      <th>1</th>\n",
       "      <td>1</td>\n",
       "      <td>If you lurk r/GME, and don't post anything eve...</td>\n",
       "      <td>1.616841e+09</td>\n",
       "      <td>I don't know. Please don't comment. The more o...</td>\n",
       "      <td>2021-03-27 03:34:37</td>\n",
       "    </tr>\n",
       "    <tr>\n",
       "      <th>2</th>\n",
       "      <td>2</td>\n",
       "      <td>The Psychological warfare is in the End Phase,...</td>\n",
       "      <td>1.616691e+09</td>\n",
       "      <td>&amp;#x200B;\\n\\nhttps://preview.redd.it/cunhfgjf05...</td>\n",
       "      <td>2021-03-25 09:46:50</td>\n",
       "    </tr>\n",
       "    <tr>\n",
       "      <th>3</th>\n",
       "      <td>3</td>\n",
       "      <td>Just posted on SEC -- оver $500,000 awarded to...</td>\n",
       "      <td>1.617069e+09</td>\n",
       "      <td>Link to the Press Release on SEC's website:\\n\\...</td>\n",
       "      <td>2021-03-29 18:53:59</td>\n",
       "    </tr>\n",
       "    <tr>\n",
       "      <th>4</th>\n",
       "      <td>4</td>\n",
       "      <td>NO MORE LURKING!</td>\n",
       "      <td>1.616178e+09</td>\n",
       "      <td>EVERY UPVOTE/DOWNVOTE MATTERS! NO MORE LURKING...</td>\n",
       "      <td>2021-03-19 11:12:23</td>\n",
       "    </tr>\n",
       "  </tbody>\n",
       "</table>\n",
       "</div>"
      ],
      "text/plain": [
       "   Unnamed: 0                                              title  \\\n",
       "0           0  PETITION: Repost \"Robinhood CEO Lying Under Oa...   \n",
       "1           1  If you lurk r/GME, and don't post anything eve...   \n",
       "2           2  The Psychological warfare is in the End Phase,...   \n",
       "3           3  Just posted on SEC -- оver $500,000 awarded to...   \n",
       "4           4                                   NO MORE LURKING!   \n",
       "\n",
       "        created                                               body  \\\n",
       "0  1.621024e+09                                                NaN   \n",
       "1  1.616841e+09  I don't know. Please don't comment. The more o...   \n",
       "2  1.616691e+09  &#x200B;\\n\\nhttps://preview.redd.it/cunhfgjf05...   \n",
       "3  1.617069e+09  Link to the Press Release on SEC's website:\\n\\...   \n",
       "4  1.616178e+09  EVERY UPVOTE/DOWNVOTE MATTERS! NO MORE LURKING...   \n",
       "\n",
       "             timestamp  \n",
       "0  2021-05-14 13:30:50  \n",
       "1  2021-03-27 03:34:37  \n",
       "2  2021-03-25 09:46:50  \n",
       "3  2021-03-29 18:53:59  \n",
       "4  2021-03-19 11:12:23  "
      ]
     },
     "execution_count": 4,
     "metadata": {},
     "output_type": "execute_result"
    }
   ],
   "source": [
    "gme_df.head()"
   ]
  },
  {
   "cell_type": "code",
   "execution_count": 5,
   "metadata": {},
   "outputs": [
    {
     "data": {
      "text/html": [
       "<div>\n",
       "<style scoped>\n",
       "    .dataframe tbody tr th:only-of-type {\n",
       "        vertical-align: middle;\n",
       "    }\n",
       "\n",
       "    .dataframe tbody tr th {\n",
       "        vertical-align: top;\n",
       "    }\n",
       "\n",
       "    .dataframe thead th {\n",
       "        text-align: right;\n",
       "    }\n",
       "</style>\n",
       "<table border=\"1\" class=\"dataframe\">\n",
       "  <thead>\n",
       "    <tr style=\"text-align: right;\">\n",
       "      <th></th>\n",
       "      <th>1.0</th>\n",
       "    </tr>\n",
       "  </thead>\n",
       "  <tbody>\n",
       "    <tr>\n",
       "      <th>0</th>\n",
       "      <td>9.0</td>\n",
       "    </tr>\n",
       "    <tr>\n",
       "      <th>1</th>\n",
       "      <td>18.0</td>\n",
       "    </tr>\n",
       "    <tr>\n",
       "      <th>2</th>\n",
       "      <td>14.0</td>\n",
       "    </tr>\n",
       "    <tr>\n",
       "      <th>3</th>\n",
       "      <td>16.0</td>\n",
       "    </tr>\n",
       "    <tr>\n",
       "      <th>4</th>\n",
       "      <td>13.0</td>\n",
       "    </tr>\n",
       "  </tbody>\n",
       "</table>\n",
       "</div>"
      ],
      "text/plain": [
       "    1.0\n",
       "0   9.0\n",
       "1  18.0\n",
       "2  14.0\n",
       "3  16.0\n",
       "4  13.0"
      ]
     },
     "execution_count": 5,
     "metadata": {},
     "output_type": "execute_result"
    }
   ],
   "source": [
    "doge_df.head()"
   ]
  },
  {
   "cell_type": "code",
   "execution_count": 6,
   "metadata": {},
   "outputs": [
    {
     "data": {
      "text/html": [
       "<div>\n",
       "<style scoped>\n",
       "    .dataframe tbody tr th:only-of-type {\n",
       "        vertical-align: middle;\n",
       "    }\n",
       "\n",
       "    .dataframe tbody tr th {\n",
       "        vertical-align: top;\n",
       "    }\n",
       "\n",
       "    .dataframe thead th {\n",
       "        text-align: right;\n",
       "    }\n",
       "</style>\n",
       "<table border=\"1\" class=\"dataframe\">\n",
       "  <thead>\n",
       "    <tr style=\"text-align: right;\">\n",
       "      <th></th>\n",
       "      <th>1.0</th>\n",
       "    </tr>\n",
       "  </thead>\n",
       "  <tbody>\n",
       "    <tr>\n",
       "      <th>0</th>\n",
       "      <td>12.0</td>\n",
       "    </tr>\n",
       "    <tr>\n",
       "      <th>1</th>\n",
       "      <td>7.0</td>\n",
       "    </tr>\n",
       "    <tr>\n",
       "      <th>2</th>\n",
       "      <td>4.0</td>\n",
       "    </tr>\n",
       "    <tr>\n",
       "      <th>3</th>\n",
       "      <td>4.0</td>\n",
       "    </tr>\n",
       "    <tr>\n",
       "      <th>4</th>\n",
       "      <td>2.0</td>\n",
       "    </tr>\n",
       "  </tbody>\n",
       "</table>\n",
       "</div>"
      ],
      "text/plain": [
       "    1.0\n",
       "0  12.0\n",
       "1   7.0\n",
       "2   4.0\n",
       "3   4.0\n",
       "4   2.0"
      ]
     },
     "execution_count": 6,
     "metadata": {},
     "output_type": "execute_result"
    }
   ],
   "source": [
    "amc_df.head()"
   ]
  },
  {
   "cell_type": "code",
   "execution_count": 7,
   "metadata": {},
   "outputs": [
    {
     "data": {
      "text/html": [
       "<div>\n",
       "<style scoped>\n",
       "    .dataframe tbody tr th:only-of-type {\n",
       "        vertical-align: middle;\n",
       "    }\n",
       "\n",
       "    .dataframe tbody tr th {\n",
       "        vertical-align: top;\n",
       "    }\n",
       "\n",
       "    .dataframe thead th {\n",
       "        text-align: right;\n",
       "    }\n",
       "</style>\n",
       "<table border=\"1\" class=\"dataframe\">\n",
       "  <thead>\n",
       "    <tr style=\"text-align: right;\">\n",
       "      <th></th>\n",
       "      <th>1.0</th>\n",
       "      <th>1.0</th>\n",
       "      <th>Unnamed: 0</th>\n",
       "      <th>title</th>\n",
       "      <th>created</th>\n",
       "      <th>body</th>\n",
       "      <th>timestamp</th>\n",
       "    </tr>\n",
       "  </thead>\n",
       "  <tbody>\n",
       "    <tr>\n",
       "      <th>0</th>\n",
       "      <td>12.0</td>\n",
       "      <td>9.0</td>\n",
       "      <td>0</td>\n",
       "      <td>PETITION: Repost \"Robinhood CEO Lying Under Oa...</td>\n",
       "      <td>1.621024e+09</td>\n",
       "      <td>NaN</td>\n",
       "      <td>2021-05-14 13:30:50</td>\n",
       "    </tr>\n",
       "    <tr>\n",
       "      <th>1</th>\n",
       "      <td>7.0</td>\n",
       "      <td>18.0</td>\n",
       "      <td>1</td>\n",
       "      <td>If you lurk r/GME, and don't post anything eve...</td>\n",
       "      <td>1.616841e+09</td>\n",
       "      <td>I don't know. Please don't comment. The more o...</td>\n",
       "      <td>2021-03-27 03:34:37</td>\n",
       "    </tr>\n",
       "    <tr>\n",
       "      <th>2</th>\n",
       "      <td>4.0</td>\n",
       "      <td>14.0</td>\n",
       "      <td>2</td>\n",
       "      <td>The Psychological warfare is in the End Phase,...</td>\n",
       "      <td>1.616691e+09</td>\n",
       "      <td>&amp;#x200B;\\n\\nhttps://preview.redd.it/cunhfgjf05...</td>\n",
       "      <td>2021-03-25 09:46:50</td>\n",
       "    </tr>\n",
       "    <tr>\n",
       "      <th>3</th>\n",
       "      <td>4.0</td>\n",
       "      <td>16.0</td>\n",
       "      <td>3</td>\n",
       "      <td>Just posted on SEC -- оver $500,000 awarded to...</td>\n",
       "      <td>1.617069e+09</td>\n",
       "      <td>Link to the Press Release on SEC's website:\\n\\...</td>\n",
       "      <td>2021-03-29 18:53:59</td>\n",
       "    </tr>\n",
       "    <tr>\n",
       "      <th>4</th>\n",
       "      <td>2.0</td>\n",
       "      <td>13.0</td>\n",
       "      <td>4</td>\n",
       "      <td>NO MORE LURKING!</td>\n",
       "      <td>1.616178e+09</td>\n",
       "      <td>EVERY UPVOTE/DOWNVOTE MATTERS! NO MORE LURKING...</td>\n",
       "      <td>2021-03-19 11:12:23</td>\n",
       "    </tr>\n",
       "  </tbody>\n",
       "</table>\n",
       "</div>"
      ],
      "text/plain": [
       "    1.0   1.0  Unnamed: 0                                              title  \\\n",
       "0  12.0   9.0           0  PETITION: Repost \"Robinhood CEO Lying Under Oa...   \n",
       "1   7.0  18.0           1  If you lurk r/GME, and don't post anything eve...   \n",
       "2   4.0  14.0           2  The Psychological warfare is in the End Phase,...   \n",
       "3   4.0  16.0           3  Just posted on SEC -- оver $500,000 awarded to...   \n",
       "4   2.0  13.0           4                                   NO MORE LURKING!   \n",
       "\n",
       "        created                                               body  \\\n",
       "0  1.621024e+09                                                NaN   \n",
       "1  1.616841e+09  I don't know. Please don't comment. The more o...   \n",
       "2  1.616691e+09  &#x200B;\\n\\nhttps://preview.redd.it/cunhfgjf05...   \n",
       "3  1.617069e+09  Link to the Press Release on SEC's website:\\n\\...   \n",
       "4  1.616178e+09  EVERY UPVOTE/DOWNVOTE MATTERS! NO MORE LURKING...   \n",
       "\n",
       "             timestamp  \n",
       "0  2021-05-14 13:30:50  \n",
       "1  2021-03-27 03:34:37  \n",
       "2  2021-03-25 09:46:50  \n",
       "3  2021-03-29 18:53:59  \n",
       "4  2021-03-19 11:12:23  "
      ]
     },
     "execution_count": 7,
     "metadata": {},
     "output_type": "execute_result"
    }
   ],
   "source": [
    "column_csv_combined = pd.concat([amc_df, doge_df, gme_df], axis = 'columns', join = 'inner')\n",
    "column_csv_combined.head()"
   ]
  },
  {
   "cell_type": "code",
   "execution_count": 8,
   "metadata": {},
   "outputs": [
    {
     "data": {
      "text/plain": [
       "1.0           float64\n",
       "1.0           float64\n",
       "Unnamed: 0      int64\n",
       "title          object\n",
       "created       float64\n",
       "body           object\n",
       "timestamp      object\n",
       "dtype: object"
      ]
     },
     "execution_count": 8,
     "metadata": {},
     "output_type": "execute_result"
    }
   ],
   "source": [
    "column_csv_combined.dtypes"
   ]
  },
  {
   "cell_type": "code",
   "execution_count": null,
   "metadata": {},
   "outputs": [],
   "source": []
  },
  {
   "cell_type": "code",
   "execution_count": null,
   "metadata": {},
   "outputs": [],
   "source": []
  },
  {
   "cell_type": "code",
   "execution_count": null,
   "metadata": {},
   "outputs": [],
   "source": []
  },
  {
   "cell_type": "code",
   "execution_count": null,
   "metadata": {},
   "outputs": [],
   "source": []
  },
  {
   "cell_type": "code",
   "execution_count": null,
   "metadata": {},
   "outputs": [],
   "source": []
  },
  {
   "cell_type": "code",
   "execution_count": null,
   "metadata": {},
   "outputs": [],
   "source": []
  }
 ],
 "metadata": {
  "kernelspec": {
   "display_name": "Python 3",
   "language": "python",
   "name": "python3"
  },
  "language_info": {
   "codemirror_mode": {
    "name": "ipython",
    "version": 3
   },
   "file_extension": ".py",
   "mimetype": "text/x-python",
   "name": "python",
   "nbconvert_exporter": "python",
   "pygments_lexer": "ipython3",
   "version": "3.7.9"
  }
 },
 "nbformat": 4,
 "nbformat_minor": 4
}
