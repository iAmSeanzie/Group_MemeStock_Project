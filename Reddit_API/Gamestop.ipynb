{
 "cells": [
  {
   "cell_type": "code",
   "execution_count": 1,
   "metadata": {},
   "outputs": [],
   "source": [
    "import requests\n",
    "import pandas as pd\n",
    "import datetime as dt\n",
    "import praw"
   ]
  },
  {
   "cell_type": "code",
   "execution_count": 2,
   "metadata": {},
   "outputs": [],
   "source": [
    "reddit = praw.Reddit(client_id = 's46cB0O1CjDLeg',\n",
    "                    client_secret = 'OnU58KhDJdZzqgdpaDLfsSQ723PG9w',\n",
    "                    password = '?xkk5^H,Q_ZaF+m',\n",
    "                    user_agent = 'Personal use for keyword analysis.',\n",
    "                    username = 'crownds18')"
   ]
  },
  {
   "cell_type": "code",
   "execution_count": null,
   "metadata": {},
   "outputs": [],
   "source": []
  },
  {
   "cell_type": "code",
   "execution_count": 3,
   "metadata": {},
   "outputs": [],
   "source": [
    "gamestop_sub = reddit.subreddit('GameStop')"
   ]
  },
  {
   "cell_type": "code",
   "execution_count": 20,
   "metadata": {},
   "outputs": [],
   "source": [
    "gamestop_subreddit = subreddit.top()"
   ]
  },
  {
   "cell_type": "code",
   "execution_count": 5,
   "metadata": {},
   "outputs": [],
   "source": [
    "gamestop_subreddit = subreddit.top(limit=100000)"
   ]
  },
  {
   "cell_type": "code",
   "execution_count": null,
   "metadata": {},
   "outputs": [
    {
     "name": "stdout",
     "output_type": "stream",
     "text": [
      "Governor Tom Wolf pulls game stop's business license fm6v8u\n",
      "Shannon from Grab Your Wallet here. fki7by\n",
      "Fuck You George flh934\n",
      "The Pokémon card shortage driven by scalpers has made it impossible for kids to get anything. They aren’t able to start/build their collections so I started a program at our store where our collectors can donate their extras and we give them to kids. n4qoci\n",
      "Wallstreetbets cares about us way more than corporate 😭 lbbdcj\n",
      "To those concerned: fjm5zq\n",
      "Thanks to the people who made gains on stocks...these people are taking care of us better than our corporate overlords ladltn\n",
      "Thought you guys would like this. flvxrd\n",
      "Sisyphean task l4j40f\n",
      "To the new management team that’s incoming or has recently arrived, including Ryan Cohen and Jenna Owens n7uq1i\n",
      "It do be like that sometimes. l53910\n",
      "Tell me I’m wrong fkw088\n",
      "Customer was buying this squishmallow turtle and I commented that it was cute and that I loved it. Customer bought and left, 20 minutes later gave me the turtle and she refused to take it back. That was literally the sweetest thing that has happened :( l6ic1t\n",
      "GSO Message Telling Us To Argue With Cops About Staying Open flfxha\n",
      "YOLO fr8r18\n",
      "Attention: Posts about the stock will be removed, yes we know what is going on, no we will not entertain it. l6vy4v\n",
      "our favorite employee visited us today!!! cp0puy\n",
      "I will probably get downvoted but... fk5ni6\n",
      "RIP sweet prince. Sleep now. ltf1d0\n",
      "Me and the boys picking up our preorders fs057l\n",
      "These last 2 days been like fnx5jt\n",
      "Hey, where did that Snake amiibo go? d6yfqv\n",
      "I got a copy of PGA 2010 traded in today and it gave me an idea... b1n4f2\n",
      "Every man has 2 wolves inside jf26mg\n",
      "eNgAgE cvhqvs\n",
      "Two days in a row that you wild people caring more about us than corporate. We really appreciate it! lc8mmq\n",
      "What up Sunday de3zpk\n",
      "\"ESSENTIALS\" flhgfl\n",
      "Don't let this get buried. fkk2r9\n",
      "My SL and DL let me draw on our sidewalk. I'm pretty proud of this guy. d6k6ch\n",
      "Wanna cry? f8252f\n",
      "Recently while at my local GameStop I saw a kid around 8 years old upset about the lack of Pokémon cards in any stores near us. I decided to donate 20 custom packs I made that each have over 10+ cards with one holo rare or better per pack to my local store so they can give them away for free to kids nny38x\n",
      "Officially quit. fle8vv\n",
      "Customers Today fn61hk\n",
      "We were so damn close... esj9fs\n",
      "Image of GameStop Dreamcast launch 9/9/99 cft0m3\n",
      "70 hours huh fqoeh1\n",
      "Apparently... loponx\n",
      "Asked my SL how to keep the hours sign from falling off the window and this was his response f50v0r\n",
      "Never gets old. Talk about beating a dead horse... jfsoex\n",
      "CEO GEORGE SHERMAN THANK YOU! THEY HAVE HEARD THE WORKERS AND THE CUSTOMERS! PAID TIME OFF AND 2 WEEKS OF PAY FOR SGA’s!!! (Unless they change this somehow) fmp8mz\n",
      "To all our female employee's, We salute you, and thank you for your service, and know that we sympathize with you for all the shit you guys have to deal with on a daily basis. ihlanb\n",
      "how customers shop for controllers ezd31m\n",
      "A Customer Brought me a Plate e43rsy\n",
      "When customers don't put the case back where they grabbed it from eqiqvq\n",
      "~The Week Before Christmas~ ki7v20\n",
      "Persona 5 Royal is the best game I ever played, I hope she enjoyed her game npweti\n",
      "Oh no.... fczqk5\n",
      "For all your Thanksgiving workers, like myself...😂😂😂 9zevnl\n",
      "When bonus talk comes up d591wk\n",
      "GameStop could use a lesson or 2 fpzti0\n",
      "When my DL says we need more GPGs. apibp0\n",
      "Spent entirely too much time on this. Hope it's enjoyed proportionately. hj44b2\n",
      "I saw a need for our district, so I fixed it. g6puum\n",
      "And then we got an employee clearance sale instead gxrim2\n",
      "I made some adjustments to the pins we got in today... fdy7t3\n",
      "Did some window art for an upcoming game release.. go5saw\n",
      "🙆🏻‍♀️🙃 g64fwg\n",
      "My latest sidewalk doodle (February has nothing going on) ey542l\n",
      "I’m just gonna leave this here. kg77t9\n",
      "Thank god GameStop is still open so I can handle all my essential business. flgjg4\n",
      "80% of phone calls, 15% of in person interactions kggj65\n",
      "Be like doom guy fvgfx2\n",
      "Remember when GameStop used to be proud of not being open Thanksgiving? Money talks. ds345g\n",
      "How I feel after the 3rd failed pitch for GPGs/PURs/PRPs dcfqkt\n",
      "Every third phone call llo3k5\n",
      "No caption needed. hphadm\n",
      "I might be a bad employee but maybe this is relatable boj5ky\n",
      "Did you know you can get up to $500...... ekik46\n",
      "Some children are just so pure cdjdm5\n",
      "My closer left this for me, Made my morning 😁 cti8fm\n",
      "One Last Chalk Doodle hfrzur\n",
      "At least once a day I hear some personal stuff out of nowhere... aoinxp\n",
      "I'm so tired of the calls. m7hvah\n",
      "I am essential and bored. ftxtsw\n",
      "I’ve been saving our thrown away price labels to some doodles on jzhoed\n",
      "Best I can give you for the Jeep is $3.50 9fymbn\n",
      "Busting at the Seams with essential work. fyr5br\n",
      "New Employee fb1u25\n",
      "A day in the life... d80fic\n",
      "Ignoring no’s kill all sales. mbqmf2\n",
      "It be tough in these streets... gc9kuy\n",
      "When the door sensor isn’t loud enough er5p64\n",
      "Dear Corporate... kchfa8\n",
      "Can we get an F in the thread for our store’s liquidation? ky7a4g\n",
      "What up Corporate dh9ynl\n",
      "That's not how this works fc2vg5\n",
      "My Resignation (redacted identifying info) fllmn3\n",
      "Mask PSA l7gbtb\n",
      "Let the low level content begin... d4jtqu\n",
      "Hope y’all are doing well out there in the trenches a997g4\n",
      "nO OnE WANts tO WoRK n7pe3a\n",
      "I drew this on our sidewalk in preparation for Halloween! doaqcm\n",
      "Relevant meme n1vubj\n",
      "Being a female at GameStop (by me) clx1rs\n",
      "I’m sure most of us feel this gt3738\n",
      "Some madman traded in the holy trinity 😳 nokxl0\n",
      "Mfw I close the grates then hear someone pull on the door awejnv\n",
      "No caption needed. fwvsao\n",
      "Nice efbp5f\n",
      "Is this how we set up sales? e0o60j\n",
      "You want him? Gotta find him. eq4d2v\n",
      "One of my staff sent me this beauty. bzm3me\n",
      "Makes sense. jqt59z\n",
      "Been feeling burnt out and frustrated, yet inspired. Doodled this when I had free time at my store. I think a lot of us can relate. gjrg03\n",
      "Best \"sell\" in a while. f6jo1p\n",
      "Found this appropriate n67kqw\n",
      "After today’s price changes... i0fqgb\n",
      "We're all feeling it fudx2q\n",
      "Y’all ready to play doom eternal on your Xbox 360???? fioz10\n",
      "Most neatly packed box I’ve ever gotten ccfikf\n",
      "Just saying.... fjxazl\n",
      "I wasted 20 minutes making this fl3pa1\n",
      "We're out of Switch cover art and I haven't had a guest since 2. duznic\n",
      "\"Can I come in and browse?\" g5jtre\n",
      "I wish we could put this sign out in our store... b4753y\n",
      "Drew this for our stores outgoing shipments.. say hello to slow season f42d72\n",
      "This week be like.. dxo4j0\n",
      "Saving lives 1 copy of New Horizons at a time fob5pr\n",
      "Would do to higher ups, not my SL, it's not his fault flb83u\n",
      "Pretty much. bwr1tu\n",
      "You sir deserve a raise khqhny\n",
      "Essential Retail fmzrlt\n",
      "Every. Single. Time. cei1nd\n",
      "I don’t know who needs to hear this but lerr46\n",
      "Sent our last vita game out today.. j686rk\n",
      "“Why won’t you take my trades?” d7pm12\n",
      "So if I have to work the Doom/AC release despite the Corona panic, I figure I might as well do it in style. Here's a Tshirt design I drew up today! Tshirt transfer paper is so cool! fl0td4\n",
      "Dude came in, spent 30-45 minutes digging through our pops, picked about 50 of em and had us box them up + statues too. Says he has to go to the bathroom next door, he'll be back in ten. It's been four hours. Thanks, bud. etknmw\n",
      "Trying to get PUR during a pandemic hfbgwx\n",
      "Dear corporate: these are the people we deal with 😂 hltfpf\n",
      "Battle Toads now in stock. Only 1 available gsd2od\n",
      "They peeled the sticker off LA Noire and stuck a Smash Brothers sticker on it. We must always be vigilant, brothers. bipmal\n",
      "Me @corporate dknto1\n",
      "With everything being sucky (for multiple reasons) just wanted to post this Picture, from back when my store was closed to the public, but we were still expected to ship out that product! Also as reminder to just have fun, however you can. Also, our UPS guy loved it. i6jydr\n",
      "Sorry, I had to. g0rf7r\n",
      "Last Chance - A Call To Action fjvj26\n",
      "Need this for my store fun2jk\n",
      "A little boy took time out of his day to type out a letter and send it to us. MY HEART. aspu3b\n",
      "Ha. Nice! gh5rvv\n",
      "I never thought keeping this pre-order bonus would pay off!😂 fxeduh\n",
      "when NYCC product comes out tomorrow and your pop section is already overflowing dcx8h7\n",
      "My arsenal to fight off the Karens (My store reopens today) gqcx3b\n",
      "GameStop customer service trying to handle the volume of “where’s my preorder?” calls g8jeh3\n",
      "Yes. Yes we do. f3kj09\n",
      "I love this place 🍕 e7xp04\n",
      "alright, which one of you... lz6t6c\n",
      "Just took in the Cleanest PS3 Controller i have ever seen through trade. bb0q65\n",
      "That GSTV ad for mask and all that. n06i9s\n",
      "A poem to the employees gwvnma\n",
      "Are you a GameStop employee who wants to talk about it? *especially if you're in California* fluhrp\n",
      "One of my best regulars gave these to my store yesterday. Cannot thank them enough! flawed\n",
      "Clearing out the attic in our store and found these guys. kty29u\n",
      "It's only Tuesday, guys! k0srbx\n",
      "It did be like that jrugnx\n",
      "I was attempting to do a Gaming ABCs, but our store shuts down after tomorrow. Here's what I managed so far! g7j1wr\n",
      "It be like that though envg1j\n",
      "Too soon? ck9we3\n",
      "Corporate please realize that we are human. e57fws\n",
      "\"I just need to buy one thing\" b0bduk\n",
      "These were sent in a SFS just like this to a customer. Of course they returned it. Who is sending these off without at least putting them in a yellow sleeve?!?! Also, please don't put the stickers on the games! lbyn2i\n",
      "“Essential” employees fs8y5o\n",
      "Do you have a moment to talk about our lord and savior, Tech Trades? e4ifcb\n",
      "So there a trash panda living outside my store. gg7mhc\n",
      "It's been 84 Years! They're Beautiful. hsbsvz\n",
      "Sorry if this has already been posted, but it made me laugh. And then cry. fsig21\n",
      "REGULARS ARE THE BEST!! ❤️ k246jq\n",
      "RIP preorders epona3\n",
      "Best Transaction ever... jhg56t\n",
      "What I truly wish to do to these types of people enz3xt\n",
      "Corporate 9yt40j\n",
      "Simpler times. 9sniw6\n",
      "Alright, who was it? (Yes, I saw it on iFunny) nkelha\n",
      "When customers knock over displays... l3evvd\n",
      "First day reopening for BOPs & Curbside only 😬 g2179b\n",
      "GameStop Employees aryw81\n",
      "My ASL just sent me this. \"Dude pre-ordered 72 hot wheels.\" dm4nua\n",
      "Well, we met our trade goal. emkrd1\n",
      "i love my job 8uuicz\n",
      "A meet cute in my store! ndvsd8\n",
      "Ever wonder how unrealistic labor allotments are? I'm heading to work like Quicksilver 👍 jkt0ia\n",
      "Can't fix stupid... gbmhi7\n",
      "You hate to see it. 93b5pj\n",
      "“Hey nice to see you again!” f17v66\n",
      "Hmm... l6ae3s\n",
      "My SGA and I trying to summon the BOPs orders fn8a7a\n",
      "If I hear on more customer say \"you know it's illegal to show product you don't have\".... I might do something drastic. muxdmf\n",
      "A customer ordered us a pizza after we helped them :D ly5akr\n",
      "My GS has saved my life (literally) and I love them. ir2r0g\n",
      "My staff and I have been creating “Goose of the Day” drawings for the past few days to keep us sane during the holiday season. Morale is up 200% k6nnwu\n",
      "Is there a way to turn off the flopping karp ? hmau0s\n",
      "Just Read it out loud agox6w\n",
      "The GameStop Experience the last few weeks bc751v\n",
      "Well that was Quick. d02feq\n",
      "GameStop girl ks5ryk\n",
      "Me with ever guest that walks in: ekfwav\n",
      "My sides are hurting! Has anyone ever had an argument like this though? bfife7\n",
      "This is why I come to work everyday ece416\n",
      "“How’s work going?” d7lkqf\n",
      "I ain't taking your shit Grandma. dr6ywk\n"
     ]
    }
   ],
   "source": [
    "for submission in subreddit.top(limit=100000):\n",
    "    print(submission.title, submission.id)"
   ]
  },
  {
   "cell_type": "code",
   "execution_count": 7,
   "metadata": {},
   "outputs": [],
   "source": [
    "topics_headers = { \"title\":[],\n",
    "                \"created\": [], \n",
    "                \"body\":[]}"
   ]
  },
  {
   "cell_type": "code",
   "execution_count": 8,
   "metadata": {},
   "outputs": [],
   "source": [
    "for submission in gamestop_subreddit:\n",
    "    topics_headers[\"title\"].append(submission.title)\n",
    "    topics_headers[\"created\"].append(submission.created)\n",
    "    topics_headers[\"body\"].append(submission.selftext)"
   ]
  },
  {
   "cell_type": "code",
   "execution_count": 9,
   "metadata": {},
   "outputs": [],
   "source": [
    "gamestop_data = pd.DataFrame(topics_headers)"
   ]
  },
  {
   "cell_type": "code",
   "execution_count": 10,
   "metadata": {},
   "outputs": [],
   "source": [
    "def get_date(created):\n",
    "    return dt.datetime.fromtimestamp(created)"
   ]
  },
  {
   "cell_type": "code",
   "execution_count": 11,
   "metadata": {},
   "outputs": [],
   "source": [
    "gamestop_datetime = gamestop_data[\"created\"].apply(get_date)"
   ]
  },
  {
   "cell_type": "code",
   "execution_count": 12,
   "metadata": {},
   "outputs": [],
   "source": [
    "gamestop_data = gamestop_data.assign(timestamp = gamestop_datetime)"
   ]
  },
  {
   "cell_type": "code",
   "execution_count": 13,
   "metadata": {},
   "outputs": [],
   "source": [
    "gamestop_data.to_csv('GameStop.csv', index=False) "
   ]
  },
  {
   "cell_type": "code",
   "execution_count": null,
   "metadata": {},
   "outputs": [],
   "source": []
  }
 ],
 "metadata": {
  "kernelspec": {
   "display_name": "Python [conda env:pyvizenv] *",
   "language": "python",
   "name": "conda-env-pyvizenv-py"
  },
  "language_info": {
   "codemirror_mode": {
    "name": "ipython",
    "version": 3
   },
   "file_extension": ".py",
   "mimetype": "text/x-python",
   "name": "python",
   "nbconvert_exporter": "python",
   "pygments_lexer": "ipython3",
   "version": "3.7.9"
  }
 },
 "nbformat": 4,
 "nbformat_minor": 4
}
